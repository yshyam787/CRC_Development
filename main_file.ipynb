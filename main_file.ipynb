{
 "cells": [
  {
   "cell_type": "markdown",
   "metadata": {},
   "source": [
    "# CRC Development #"
   ]
  },
  {
   "cell_type": "code",
   "execution_count": 4,
   "metadata": {},
   "outputs": [],
   "source": [
    "# Libraries\n",
    "import json #for loading JSON files\n",
    "import os #for file traversal\n",
    "import pandas as pd\n",
    "from config import ROOT_DIRECTORY, CONFIGURATION_JSON #import root directory and configuraiton.json file. "
   ]
  },
  {
   "cell_type": "markdown",
   "metadata": {},
   "source": [
    "### Step 1: Load the file_configuration.json ###"
   ]
  },
  {
   "cell_type": "code",
   "execution_count": 5,
   "metadata": {},
   "outputs": [],
   "source": [
    "with open(\"file_configuration.json\", \"r\") as json_file:\n",
    "    metadata = json.load(json_file) #Getting the files information based on file_configuration.json"
   ]
  },
  {
   "cell_type": "code",
   "execution_count": 6,
   "metadata": {},
   "outputs": [
    {
     "data": {
      "text/plain": [
       "{'folders': [{'folder_name': 'irish_data',\n",
       "   'files': [{'file_name': 'iris.csv', 'description': 'Flowers descriptions.'},\n",
       "    {'file_name': 'mtcars.csv',\n",
       "     'description': 'Cars types and engines descriptions'}]},\n",
       "  {'folder_name': 'irish_data',\n",
       "   'subfolders': [{'folder_name': 'irish_weather',\n",
       "     'files': [{'file_name': 'weather.csv',\n",
       "       'description': 'General description of the weathers.'}]}]}]}"
      ]
     },
     "execution_count": 6,
     "metadata": {},
     "output_type": "execute_result"
    }
   ],
   "source": [
    "metadata"
   ]
  },
  {
   "cell_type": "markdown",
   "metadata": {},
   "source": [
    "### Step 2: Load the CSV files content into Dataframe ###"
   ]
  },
  {
   "cell_type": "code",
   "execution_count": 7,
   "metadata": {},
   "outputs": [],
   "source": [
    "#Function to get file contents from the specified path.\n",
    "def print_file_contents(file_path):\n",
    "    df = pd.read_csv(file_path)"
   ]
  },
  {
   "cell_type": "code",
   "execution_count": 8,
   "metadata": {},
   "outputs": [
    {
     "name": "stdout",
     "output_type": "stream",
     "text": [
      "This is the complete CSV file path: /Users/shyamyadav/Shyam/Git/OtherThanUniGoet/CRC_Development/irish_data/iris.csv\n",
      "This is the dataframe:\n",
      "   sepal.length  sepal.width  petal.length  petal.width variety\n",
      "0           5.1          3.5           1.4          0.2  Setosa\n",
      "1           4.9          3.0           1.4          0.2  Setosa\n",
      "2           4.7          3.2           1.3          0.2  Setosa\n",
      "3           4.6          3.1           1.5          0.2  Setosa\n",
      "4           5.0          3.6           1.4          0.2  Setosa\n",
      "This is the complete CSV file path: /Users/shyamyadav/Shyam/Git/OtherThanUniGoet/CRC_Development/irish_data/mtcars.csv\n",
      "This is the dataframe:\n",
      "               model   mpg  cyl   disp   hp  drat     wt   qsec  vs  am  gear  \\\n",
      "0          Mazda RX4  21.0    6  160.0  110  3.90  2.620  16.46   0   1     4   \n",
      "1      Mazda RX4 Wag  21.0    6  160.0  110  3.90  2.875  17.02   0   1     4   \n",
      "2         Datsun 710  22.8    4  108.0   93  3.85  2.320  18.61   1   1     4   \n",
      "3     Hornet 4 Drive  21.4    6  258.0  110  3.08  3.215  19.44   1   0     3   \n",
      "4  Hornet Sportabout  18.7    8  360.0  175  3.15  3.440  17.02   0   0     3   \n",
      "\n",
      "   carb  \n",
      "0     4  \n",
      "1     4  \n",
      "2     1  \n",
      "3     1  \n",
      "4     2  \n",
      "This is the complete CSV file path: /Users/shyamyadav/Shyam/Git/OtherThanUniGoet/CRC_Development/irish_data/irish_weather/weather.csv\n",
      "This is the dataframe:\n",
      "    MinTemp  MaxTemp  Rainfall  Evaporation  Sunshine WindGustDir  \\\n",
      "0      8.0     24.3       0.0          3.4       6.3          NW   \n",
      "1     14.0     26.9       3.6          4.4       9.7         ENE   \n",
      "2     13.7     23.4       3.6          5.8       3.3          NW   \n",
      "3     13.3     15.5      39.8          7.2       9.1          NW   \n",
      "4      7.6     16.1       2.8          5.6      10.6         SSE   \n",
      "\n",
      "   WindGustSpeed WindDir9am WindDir3pm  WindSpeed9am  ...  Humidity3pm  \\\n",
      "0           30.0         SW         NW           6.0  ...           29   \n",
      "1           39.0          E          W           4.0  ...           36   \n",
      "2           85.0          N        NNE           6.0  ...           69   \n",
      "3           54.0        WNW          W          30.0  ...           56   \n",
      "4           50.0        SSE        ESE          20.0  ...           49   \n",
      "\n",
      "   Pressure9am  Pressure3pm  Cloud9am  Cloud3pm  Temp9am  Temp3pm  RainToday  \\\n",
      "0       1019.7       1015.0         7         7     14.4     23.6         No   \n",
      "1       1012.4       1008.4         5         3     17.5     25.7        Yes   \n",
      "2       1009.5       1007.2         8         7     15.4     20.2        Yes   \n",
      "3       1005.5       1007.0         2         7     13.5     14.1        Yes   \n",
      "4       1018.3       1018.5         7         7     11.1     15.4        Yes   \n",
      "\n",
      "   RISK_MM RainTomorrow  \n",
      "0      3.6          Yes  \n",
      "1      3.6          Yes  \n",
      "2     39.8          Yes  \n",
      "3      2.8          Yes  \n",
      "4      0.0           No  \n",
      "\n",
      "[5 rows x 22 columns]\n"
     ]
    }
   ],
   "source": [
    "for folder in metadata[\"folders\"]:\n",
    "\n",
    "        if \"files\" in folder:\n",
    "            for file in folder[\"files\"]:\n",
    "\n",
    "                if \"file_name\" in file:\n",
    "                    file_path = os.path.join(ROOT_DIRECTORY, folder[\"folder_name\"], file[\"file_name\"])\n",
    "                    print(f\"This is the complete CSV file path: {file_path}\")\n",
    "                    df = pd.read_csv(file_path)\n",
    "                    print(f\"This is the dataframe:\\n{df.head()}\")\n",
    "\n",
    "        if \"subfolders\" in folder: \n",
    "            for subfolder in folder[\"subfolders\"]:\n",
    "\n",
    "                if \"folder_name\" in subfolder: #check if folder names exists before using it.\n",
    "                    if \"files\" in subfolder:\n",
    "                        for file in subfolder[\"files\"]:\n",
    "\n",
    "                            if \"file_name\" in file:\n",
    "                                file_path = os.path.join(ROOT_DIRECTORY, folder[\"folder_name\"], subfolder[\"folder_name\"], file[\"file_name\"])\n",
    "                                print(f\"This is the complete CSV file path: {file_path}\")\n",
    "                                df = pd.read_csv(file_path)\n",
    "                                print(f\"This is the dataframe:\\n {df.head()}\")"
   ]
  }
 ],
 "metadata": {
  "kernelspec": {
   "display_name": "example",
   "language": "python",
   "name": "example"
  },
  "language_info": {
   "codemirror_mode": {
    "name": "ipython",
    "version": 3
   },
   "file_extension": ".py",
   "mimetype": "text/x-python",
   "name": "python",
   "nbconvert_exporter": "python",
   "pygments_lexer": "ipython3",
   "version": "3.12.2"
  }
 },
 "nbformat": 4,
 "nbformat_minor": 2
}
